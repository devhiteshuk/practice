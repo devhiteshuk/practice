{
 "cells": [
  {
   "cell_type": "code",
   "execution_count": 13,
   "metadata": {},
   "outputs": [
    {
     "name": "stdout",
     "output_type": "stream",
     "text": [
      "Get the power 2 Power 2 == 4\n",
      "Get the power 5 Power 5 == 3125\n",
      "Get the power 3 Power 2 == 9\n"
     ]
    }
   ],
   "source": [
    "#To calculate power used **\n",
    "print(f\"Get the power 2 Power 2 == {2**2}\")\n",
    "print(f\"Get the power 5 Power 5 == {5**5}\")\n",
    "print(f\"Get the power 3 Power 2 == {3**2}\")"
   ]
  },
  {
   "cell_type": "code",
   "execution_count": 9,
   "metadata": {},
   "outputs": [
    {
     "name": "stdout",
     "output_type": "stream",
     "text": [
      "Sum of number static number 10000\n",
      "Simple division return float values 33333.333333333336\n",
      "******\n",
      "Remove Fraction pard after divison 3333\n",
      "******\n",
      "Get Reminder divison 1\n"
     ]
    }
   ],
   "source": [
    "#basic calculation\n",
    "print(f\"Sum of number static number {9999+1}\")\n",
    "\n",
    "#Simple division\n",
    "print(f\"Simple division return float values {100000/3}\")\n",
    "\n",
    "#ignore fraction part after division use // instead of /\n",
    "print(f\"******\\nRemove Fraction pard after divison {10000//3}\")\n",
    "\n",
    "#Reminder of the division get using % \n",
    "print(f\"******\\nGet Reminder divison {10000%3}\")"
   ]
  }
 ],
 "metadata": {
  "kernelspec": {
   "display_name": "Python 3",
   "language": "python",
   "name": "python3"
  },
  "language_info": {
   "codemirror_mode": {
    "name": "ipython",
    "version": 3
   },
   "file_extension": ".py",
   "mimetype": "text/x-python",
   "name": "python",
   "nbconvert_exporter": "python",
   "pygments_lexer": "ipython3",
   "version": "3.12.7"
  }
 },
 "nbformat": 4,
 "nbformat_minor": 2
}
