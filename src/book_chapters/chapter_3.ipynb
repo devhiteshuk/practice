{
 "cells": [
  {
   "cell_type": "code",
   "execution_count": null,
   "metadata": {},
   "outputs": [],
   "source": [
    "#String operations a simple string is an array of character so we can get char from string by position\n",
    "getCharFromPosition = \"GetMyPosition By Pass position\"\n",
    "print(f'Get character at postion 5. 10 and 16 {getCharFromPosition[5]}, {getCharFromPosition[10], getCharFromPosition[16]}')\n",
    "print(getCharFromPosition[16])\n",
    "\n",
    "#what if we pass greater position then exist\n",
    "python = 'Python'\n",
    "#print(python[10])\n",
    "#will get Index Error String index out of range\n",
    "\n",
    "#if we want to get character form the end simple pass - (negative)\n",
    "print(python[-3])"
   ]
  },
  {
   "cell_type": "code",
   "execution_count": null,
   "metadata": {},
   "outputs": [],
   "source": [
    "#3.1.2 Text\n",
    "print('Text can be in single quote')\n",
    "print(\"Text can be in display in double quote as well\")\n",
    "print('Number in quote is treated as a string like 1987')\n",
    "print('This is how we can display quote don\\'t to this')\n",
    "print(\"If you don't want to used \\\\ you can used doble quote\")\n",
    "print('Hello, Itsn\"\\'t\"')\n",
    "print('Used Raw string add',r'C:\\User\\nHitesh')\n",
    "print('Without Raw String')\n",
    "\n",
    "print(f'**************\\nInteresting Repead using *')\n",
    "\n",
    "repeatMe = 3 * 'Welcome '\n",
    "print(repeatMe)"
   ]
  }
 ],
 "metadata": {
  "kernelspec": {
   "display_name": "Python 3",
   "language": "python",
   "name": "python3"
  },
  "language_info": {
   "name": "python",
   "version": "3.12.7"
  }
 },
 "nbformat": 4,
 "nbformat_minor": 2
}
