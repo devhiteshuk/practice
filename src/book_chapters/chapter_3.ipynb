{
 "cells": [
  {
   "cell_type": "code",
   "execution_count": 28,
   "metadata": {},
   "outputs": [
    {
     "name": "stdout",
     "output_type": "stream",
     "text": [
      "Hitesh Dhamsh\n",
      "4567\n",
      "\n",
      "0123456789\n",
      "23456789\n",
      "3456789\n",
      "789\n",
      "\n"
     ]
    }
   ],
   "source": [
    "#Sub strings\n",
    "word = \"Hitesh Dhamshaniya\"\n",
    "numWord = \"0123456789\"\n",
    "print(word[0:-5])\n",
    "print(numWord[-6:-2])\n",
    "print(numWord[3:2]) #Need to understand why its not print from number 3 to 2\n",
    "print(numWord[0:]) #will print whole string from given position to end of the string\n",
    "print(numWord[2:])\n",
    "print(numWord[3:])\n",
    "print(numWord[-3:]) #if pass negative value its get string form the end \n",
    "print(numWord[-2:-3])\n"
   ]
  },
  {
   "cell_type": "code",
   "execution_count": 1,
   "metadata": {},
   "outputs": [
    {
     "name": "stdout",
     "output_type": "stream",
     "text": [
      "Get character at postion 5. 10 and 16 P, ('i', ' ')\n",
      " \n",
      "h\n"
     ]
    }
   ],
   "source": [
    "#String operations a simple string is an array of character so we can get char from string by position\n",
    "getCharFromPosition = \"GetMyPosition By Pass position\"\n",
    "print(f'Get character at postion 5. 10 and 16 {getCharFromPosition[5]}, {getCharFromPosition[10], getCharFromPosition[16]}')\n",
    "print(getCharFromPosition[16])\n",
    "\n",
    "#what if we pass greater position then exist\n",
    "python = 'Python'\n",
    "#print(python[10])\n",
    "#will get Index Error String index out of range\n",
    "\n",
    "#if we want to get character form the end simple pass - (negative)\n",
    "print(python[-3])"
   ]
  },
  {
   "cell_type": "code",
   "execution_count": null,
   "metadata": {},
   "outputs": [],
   "source": [
    "#3.1.2 Text\n",
    "print('Text can be in single quote')\n",
    "print(\"Text can be in display in double quote as well\")\n",
    "print('Number in quote is treated as a string like 1987')\n",
    "print('This is how we can display quote don\\'t to this')\n",
    "print(\"If you don't want to used \\\\ you can used doble quote\")\n",
    "print('Hello, Itsn\"\\'t\"')\n",
    "print('Used Raw string add',r'C:\\User\\nHitesh')\n",
    "print('Without Raw String')\n",
    "\n",
    "print(f'**************\\nInteresting Repead using *')\n",
    "\n",
    "repeatMe = 3 * 'Welcome '\n",
    "print(repeatMe)"
   ]
  }
 ],
 "metadata": {
  "kernelspec": {
   "display_name": "Python 3",
   "language": "python",
   "name": "python3"
  },
  "language_info": {
   "codemirror_mode": {
    "name": "ipython",
    "version": 3
   },
   "file_extension": ".py",
   "mimetype": "text/x-python",
   "name": "python",
   "nbconvert_exporter": "python",
   "pygments_lexer": "ipython3",
   "version": "3.12.7"
  }
 },
 "nbformat": 4,
 "nbformat_minor": 2
}
