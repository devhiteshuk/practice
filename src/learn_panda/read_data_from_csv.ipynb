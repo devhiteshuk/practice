{
 "cells": [
  {
   "cell_type": "code",
   "execution_count": 6,
   "metadata": {},
   "outputs": [
    {
     "name": "stdout",
     "output_type": "stream",
     "text": [
      "             city      lat     lng       admin_name\n",
      "0          London  51.5072 -0.1275  London, City of\n",
      "1      Birmingham  52.4800 -1.9025       Birmingham\n",
      "2      Portsmouth  50.8058 -1.0872       Portsmouth\n",
      "3     Southampton  50.9025 -1.4042      Southampton\n",
      "4      Nottingham  52.9561 -1.1512       Nottingham\n",
      "..            ...      ...     ...              ...\n",
      "253          Rhyl  53.3210 -3.4800     Denbighshire\n",
      "254     Droitwich  52.2670 -2.1530   Worcestershire\n",
      "255       Hindley  53.5355 -2.5658            Wigan\n",
      "256  Westhoughton  53.5490 -2.5290           Bolton\n",
      "257   Broadstairs  51.3589  1.4394             Kent\n",
      "\n",
      "[258 rows x 4 columns]\n",
      "Index(['city', 'lat', 'lng', 'admin_name'], dtype='object')\n",
      "       city      lat     lng       admin_name\n",
      "0  CityName  51.5072 -0.1275  London, City of\n",
      "1  CityName  52.4800 -1.9025       Birmingham\n",
      "2  CityName  50.8058 -1.0872       Portsmouth\n",
      "3  CityName  50.9025 -1.4042      Southampton\n",
      "4  CityName  52.9561 -1.1512       Nottingham\n"
     ]
    }
   ],
   "source": [
    "import pandas as pd\n",
    "import sqlalchemy as db_engine\n",
    "\n",
    "filePath = \"uk_cities.csv\"\n",
    "\n",
    "#to read whole file\n",
    "#readCsv = pd.read_csv(filePath)\n",
    "\n",
    "#to read colums of the file\n",
    "ukDatas = pd.read_csv(filePath,usecols=[\"city\", \"lat\",\"lng\",\"admin_name\"])\n",
    "print(ukDatas)\n",
    "ukDatas[\"city\"] = \"CityName\"\n",
    "print(ukDatas.columns)\n",
    "print(ukDatas.head())\n",
    "\n",
    "# db_user_name = \"root\"\n",
    "# db_password = \"admin\"\n",
    "# db_host = \"localhost\"\n",
    "# db_name = \"test\"\n",
    "# port = 3306\n",
    "\n",
    "# db_info = {\n",
    "#     'user':db_user_name,\n",
    "#     'password':db_password,\n",
    "#     'host':db_host,\n",
    "#     'database':db_name\n",
    "# }\n",
    "\n",
    "# connection_url = url=f'mysql+pymysql://{db_user_name}:{db_password}@{db_host}:{port}/{db_name}'\n",
    "# myEngine = db_engine.create_engine(url=connection_url)\n",
    "\n",
    "# ukDatas.to_sql(name='UK_CITY_MASTER',con=myEngine,if_exists='replace',index=False)\n"
   ]
  }
 ],
 "metadata": {
  "kernelspec": {
   "display_name": "Python 3",
   "language": "python",
   "name": "python3"
  },
  "language_info": {
   "codemirror_mode": {
    "name": "ipython",
    "version": 3
   },
   "file_extension": ".py",
   "mimetype": "text/x-python",
   "name": "python",
   "nbconvert_exporter": "python",
   "pygments_lexer": "ipython3",
   "version": "3.12.7"
  }
 },
 "nbformat": 4,
 "nbformat_minor": 2
}
