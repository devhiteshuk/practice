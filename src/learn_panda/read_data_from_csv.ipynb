{
 "cells": [
  {
   "cell_type": "code",
   "execution_count": null,
   "metadata": {},
   "outputs": [
    {
     "name": "stdout",
     "output_type": "stream",
     "text": [
      "<built-in method __format__ of list object at 0x000001F402F86940>\n"
     ]
    }
   ],
   "source": [
    "import pandas as pd\n",
    "\n",
    "filePath = \"uk_cities.csv\"\n",
    "\n",
    "#to read whole file\n",
    "#readCsv = pd.read_csv(filePath)\n",
    "\n",
    "#to read colums of the file\n",
    "ukDatas = pd.read_csv(filePath,usecols=[\"city\", \"lat\",\"lng\",\"admin_name\"])\n",
    "#print(ukDatas)\n",
    "\n",
    "\n"
   ]
  }
 ],
 "metadata": {
  "kernelspec": {
   "display_name": "Python 3",
   "language": "python",
   "name": "python3"
  },
  "language_info": {
   "codemirror_mode": {
    "name": "ipython",
    "version": 3
   },
   "file_extension": ".py",
   "mimetype": "text/x-python",
   "name": "python",
   "nbconvert_exporter": "python",
   "pygments_lexer": "ipython3",
   "version": "3.12.7"
  }
 },
 "nbformat": 4,
 "nbformat_minor": 2
}
