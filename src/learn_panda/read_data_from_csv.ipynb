{
 "cells": [
  {
   "cell_type": "code",
   "execution_count": 7,
   "metadata": {},
   "outputs": [
    {
     "name": "stderr",
     "output_type": "stream",
     "text": [
      "C:\\Users\\devhi\\AppData\\Local\\Temp\\ipykernel_1268\\186501622.py:29: UserWarning: The provided table name 'UK_CITY_MASTER' is not found exactly as such in the database after writing the table, possibly due to case sensitivity issues. Consider using lower case table names.\n",
      "  ukDatas.to_sql(name='UK_CITY_MASTER',con=myEngine,if_exists='replace',index=False)\n"
     ]
    },
    {
     "data": {
      "text/plain": [
       "258"
      ]
     },
     "execution_count": 7,
     "metadata": {},
     "output_type": "execute_result"
    }
   ],
   "source": [
    "import pandas as pd\n",
    "import sqlalchemy as db_engine\n",
    "\n",
    "filePath = \"uk_cities.csv\"\n",
    "\n",
    "#to read whole file\n",
    "#readCsv = pd.read_csv(filePath)\n",
    "\n",
    "#to read colums of the file\n",
    "ukDatas = pd.read_csv(filePath,usecols=[\"city\", \"lat\",\"lng\",\"admin_name\"])\n",
    "#print(ukDatas)\n",
    "\n",
    "db_user_name = \"root\"\n",
    "db_password = \"admin\"\n",
    "db_host = \"localhost\"\n",
    "db_name = \"test\"\n",
    "port = 3306\n",
    "\n",
    "db_info = {\n",
    "    'user':db_user_name,\n",
    "    'password':db_password,\n",
    "    'host':db_host,\n",
    "    'database':db_name\n",
    "}\n",
    "\n",
    "connection_url = url=f'mysql+pymysql://{db_user_name}:{db_password}@{db_host}:{port}/{db_name}'\n",
    "myEngine = db_engine.create_engine(url=connection_url)\n",
    "\n",
    "ukDatas.to_sql(name='UK_CITY_MASTER',con=myEngine,if_exists='replace',index=False)\n"
   ]
  }
 ],
 "metadata": {
  "kernelspec": {
   "display_name": "Python 3",
   "language": "python",
   "name": "python3"
  },
  "language_info": {
   "codemirror_mode": {
    "name": "ipython",
    "version": 3
   },
   "file_extension": ".py",
   "mimetype": "text/x-python",
   "name": "python",
   "nbconvert_exporter": "python",
   "pygments_lexer": "ipython3",
   "version": "3.12.7"
  }
 },
 "nbformat": 4,
 "nbformat_minor": 2
}
