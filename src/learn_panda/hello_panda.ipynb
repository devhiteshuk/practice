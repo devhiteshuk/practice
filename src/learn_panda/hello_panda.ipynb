{
 "cells": [
  {
   "cell_type": "code",
   "execution_count": 1,
   "metadata": {},
   "outputs": [
    {
     "name": "stdout",
     "output_type": "stream",
     "text": [
      "Hello panda\n"
     ]
    }
   ],
   "source": [
    "print('Hello panda')"
   ]
  },
  {
   "cell_type": "code",
   "execution_count": 7,
   "metadata": {},
   "outputs": [
    {
     "name": "stdout",
     "output_type": "stream",
     "text": [
      "        cars  model\n",
      "0        BMW   2002\n",
      "1      Honda   2005\n",
      "2  Mercidies   2019\n",
      "\n",
      " Panda Version is 2.2.3\n"
     ]
    }
   ],
   "source": [
    "import pandas as pd\n",
    "\"\"\"\n",
    "pd is an alias for the pandas we can create alias by as\n",
    "\"\"\"\n",
    "myCarsDataSet = {\n",
    "    'cars'  : ['BMW','Honda','Mercidies'],\n",
    "    'model':[2002,2005,2019]\n",
    "}\n",
    "\n",
    "readMyCarDataSet = pd.DataFrame(myCarsDataSet)\n",
    "\n",
    "print(readMyCarDataSet)\n",
    "\n",
    "#to check pandas version below command will be used\n",
    "print(\"\\n Panda Version is \"+pd.__version__)"
   ]
  },
  {
   "cell_type": "code",
   "execution_count": 18,
   "metadata": {},
   "outputs": [
    {
     "name": "stdout",
     "output_type": "stream",
     "text": [
      "Here is the pandas series \n",
      "0    4\n",
      "1    2\n",
      "dtype: int64\n",
      "First value of the series 4\n",
      "Label First Column     4\n",
      "Second Column    2\n",
      "dtype: int64\n"
     ]
    }
   ],
   "source": [
    "#pandas series \n",
    "myList = [4,2]\n",
    "\n",
    "pdSeries = pd.Series(myList)\n",
    "\n",
    "print(f\"Here is the pandas series \\n{pdSeries}\")\n",
    "print(f\"First value of the series {pdSeries.iloc[0]}\")\n",
    "\n",
    "#To add label used index param of the series function\n",
    "labelSeries = pd.Series(myList, index=[\"First Column\", \"Second Column\"])\n",
    "print(f\"Label {labelSeries}\")"
   ]
  }
 ],
 "metadata": {
  "kernelspec": {
   "display_name": "Python 3",
   "language": "python",
   "name": "python3"
  },
  "language_info": {
   "codemirror_mode": {
    "name": "ipython",
    "version": 3
   },
   "file_extension": ".py",
   "mimetype": "text/x-python",
   "name": "python",
   "nbconvert_exporter": "python",
   "pygments_lexer": "ipython3",
   "version": "3.12.7"
  }
 },
 "nbformat": 4,
 "nbformat_minor": 2
}
