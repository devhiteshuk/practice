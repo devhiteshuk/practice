{
 "cells": [
  {
   "cell_type": "code",
   "execution_count": null,
   "metadata": {},
   "outputs": [
    {
     "name": "stdout",
     "output_type": "stream",
     "text": [
      "(258, 9)\n",
      "              lat         lng    population  population_proper\n",
      "count  258.000000  258.000000  2.580000e+02       2.580000e+02\n",
      "mean    52.506604   -1.281256  1.433363e+05       1.180305e+05\n",
      "std      1.310788    1.372089  7.265074e+05       5.538843e+05\n",
      "min     50.371400   -5.930000  2.490300e+04       2.490300e+04\n",
      "25%     51.508550   -2.189025  3.636325e+04       3.636325e+04\n",
      "50%     52.001500   -1.212500  5.275950e+04       5.275950e+04\n",
      "75%     53.428500   -0.195325  8.787300e+04       8.787300e+04\n",
      "max     57.150000    1.750000  1.126200e+07       8.825001e+06\n",
      "<class 'pandas.core.frame.DataFrame'>\n",
      "RangeIndex: 258 entries, 0 to 257\n",
      "Data columns (total 9 columns):\n",
      " #   Column             Non-Null Count  Dtype  \n",
      "---  ------             --------------  -----  \n",
      " 0   city               258 non-null    object \n",
      " 1   lat                258 non-null    float64\n",
      " 2   lng                258 non-null    float64\n",
      " 3   country            258 non-null    object \n",
      " 4   iso2               258 non-null    object \n",
      " 5   admin_name         257 non-null    object \n",
      " 6   capital            1 non-null      object \n",
      " 7   population         258 non-null    int64  \n",
      " 8   population_proper  258 non-null    int64  \n",
      "dtypes: float64(2), int64(2), object(5)\n",
      "memory usage: 18.3+ KB\n",
      "None\n",
      "Fount at index of (array([33]),)\n",
      "****************\n",
      "\n",
      "222\n",
      "(array([0]),)\n"
     ]
    }
   ],
   "source": [
    "import pandas as pd \n",
    "import numpy as np\n",
    "\n",
    "path = \"D:/Workspace/practice/assests/uk_cities.csv\"\n",
    "\n",
    "df = pd.read_csv(path)\n",
    "\n",
    "new_cols_data = [1,2,3,45,65]\n",
    "\n",
    "print(df.shape)\n",
    "\n",
    "print(df.describe())\n",
    "\n",
    "print(df.info())\n",
    "\n",
    "# #print info\n",
    "# print(df.head().info())\n",
    "\n",
    "# #describe dataframe\n",
    "# print(df.describe())\n",
    "\n",
    "#assign rak\n",
    "# print(df)\n",
    "\n",
    "allCity = df['city']\n",
    "found = np.where(allCity == 'York')\n",
    "print(f'Fount at index of {found}')\n",
    "print(\"****************\\n\")\n",
    "print(np.searchsorted(allCity,'London'))\n"
   ]
  }
 ],
 "metadata": {
  "kernelspec": {
   "display_name": "Python 3",
   "language": "python",
   "name": "python3"
  },
  "language_info": {
   "codemirror_mode": {
    "name": "ipython",
    "version": 3
   },
   "file_extension": ".py",
   "mimetype": "text/x-python",
   "name": "python",
   "nbconvert_exporter": "python",
   "pygments_lexer": "ipython3",
   "version": "3.12.7"
  }
 },
 "nbformat": 4,
 "nbformat_minor": 2
}
